{
 "cells": [
  {
   "cell_type": "markdown",
   "id": "664a38ea",
   "metadata": {},
   "source": [
    "<h1>Clases de funciones\n",
    "    <h4> 30/8/22"
   ]
  },
  {
   "cell_type": "code",
   "execution_count": 1,
   "id": "5b407ad0",
   "metadata": {},
   "outputs": [],
   "source": [
    "def media(vector_numeros):\n",
    "    media = 0\n",
    "    \n",
    "    for numero in vector_numeros:\n",
    "        media += numero\n",
    "    return media/len(vector_numeros)"
   ]
  },
  {
   "cell_type": "code",
   "execution_count": 2,
   "id": "6a511fdc",
   "metadata": {},
   "outputs": [
    {
     "data": {
      "text/plain": [
       "6"
      ]
     },
     "execution_count": 2,
     "metadata": {},
     "output_type": "execute_result"
    }
   ],
   "source": [
    "v_num= [10, 14, 8, 5, 67, 34]\n",
    "len(v_num)"
   ]
  },
  {
   "cell_type": "code",
   "execution_count": 3,
   "id": "bef2c653",
   "metadata": {},
   "outputs": [
    {
     "data": {
      "text/plain": [
       "23.0"
      ]
     },
     "execution_count": 3,
     "metadata": {},
     "output_type": "execute_result"
    }
   ],
   "source": [
    "media(v_num)"
   ]
  },
  {
   "cell_type": "code",
   "execution_count": 4,
   "id": "cbb2d0c3",
   "metadata": {},
   "outputs": [],
   "source": [
    "lista_v_numeros = [[10, 14, 8, 5, 67, 34], [101, 141, 81, 51, 671, 341], [110, 114, 18, 15, 167, 134]]"
   ]
  },
  {
   "cell_type": "code",
   "execution_count": 5,
   "id": "10fdf036",
   "metadata": {},
   "outputs": [
    {
     "name": "stdout",
     "output_type": "stream",
     "text": [
      "[10, 14, 8, 5, 67, 34]\n",
      "23.0\n",
      "[101, 141, 81, 51, 671, 341]\n",
      "231.0\n",
      "[110, 114, 18, 15, 167, 134]\n",
      "93.0\n"
     ]
    }
   ],
   "source": [
    "for lista_v in lista_v_numeros:\n",
    "    print(lista_v)\n",
    "    print(media(lista_v))\n",
    "    \n",
    "#obtiene la media de numeros en un vector"
   ]
  },
  {
   "cell_type": "markdown",
   "id": "e8e8c93c",
   "metadata": {},
   "source": [
    "<h1>Clases"
   ]
  },
  {
   "cell_type": "code",
   "execution_count": 6,
   "id": "52da0b44",
   "metadata": {},
   "outputs": [],
   "source": [
    "class personas():\n",
    "    nombre = \"\"\n",
    "    edad = \"\"\n",
    "    email = \"\"\n",
    "    telefono = \"\"\n",
    "    \n",
    "    def __init__(self,nombre,edad,email,telefono):\n",
    "        self.nombre = nombre\n",
    "        self.edad = edad\n",
    "        self.email = email\n",
    "        self.telefono = telefono\n",
    "        \n",
    "    def getEmail(self):\n",
    "        return self.email\n",
    "    \n",
    "    def setEmail(self, email_nuevo):\n",
    "        self.email = email_nuevo"
   ]
  },
  {
   "cell_type": "code",
   "execution_count": 7,
   "id": "67864acc",
   "metadata": {},
   "outputs": [],
   "source": [
    "prof_freddy = personas(\"freddy\",\"24\",\"freddy@gmail.com\",\"12345678\")"
   ]
  },
  {
   "cell_type": "code",
   "execution_count": 8,
   "id": "8ad10495",
   "metadata": {},
   "outputs": [],
   "source": [
    "prof_ana = personas(\"ana\",\"23\",\"ana@gmail.com\",\"87654321\")"
   ]
  },
  {
   "cell_type": "code",
   "execution_count": 16,
   "id": "9f6b018c",
   "metadata": {},
   "outputs": [
    {
     "data": {
      "text/plain": [
       "'freddy@gmail.com'"
      ]
     },
     "execution_count": 16,
     "metadata": {},
     "output_type": "execute_result"
    }
   ],
   "source": [
    "prof_freddy.getEmail()"
   ]
  },
  {
   "cell_type": "code",
   "execution_count": 17,
   "id": "ea52b778",
   "metadata": {},
   "outputs": [
    {
     "data": {
      "text/plain": [
       "'ana@gmail.com'"
      ]
     },
     "execution_count": 17,
     "metadata": {},
     "output_type": "execute_result"
    }
   ],
   "source": [
    "prof_ana.getEmail()"
   ]
  },
  {
   "cell_type": "markdown",
   "id": "0d26b8ca",
   "metadata": {},
   "source": [
    "<h1>Calculadora"
   ]
  },
  {
   "cell_type": "code",
   "execution_count": 10,
   "id": "a43aa4de",
   "metadata": {},
   "outputs": [],
   "source": [
    "class calculadora():\n",
    "    \n",
    "    def __init__(self,a,b):\n",
    "        self.a = a\n",
    "        self.b = b\n",
    "        \n",
    "    def setNumber(self,numA,numB):\n",
    "        self.a = numA\n",
    "        self.b = numB\n",
    "    def getNumbers(self):\n",
    "        return self.a,self.b\n",
    "    \n",
    "    def suma(self):\n",
    "        return self.a + self.b\n",
    "    \n",
    "    def resta(self):\n",
    "        return self.a - self.b\n",
    "    \n",
    "    def multiplicacion(self):\n",
    "        return self.a * self.b\n",
    "    \n",
    "    def division(self):\n",
    "        return self.a / self.b"
   ]
  },
  {
   "cell_type": "code",
   "execution_count": 11,
   "id": "28b1e0a6",
   "metadata": {},
   "outputs": [],
   "source": [
    "calculadora_1 = calculadora(10,4)"
   ]
  },
  {
   "cell_type": "code",
   "execution_count": 12,
   "id": "2ae4a7db",
   "metadata": {},
   "outputs": [
    {
     "data": {
      "text/plain": [
       "14"
      ]
     },
     "execution_count": 12,
     "metadata": {},
     "output_type": "execute_result"
    }
   ],
   "source": [
    "calculadora_1.suma() #suma"
   ]
  },
  {
   "cell_type": "code",
   "execution_count": 13,
   "id": "974a8d11",
   "metadata": {},
   "outputs": [
    {
     "data": {
      "text/plain": [
       "6"
      ]
     },
     "execution_count": 13,
     "metadata": {},
     "output_type": "execute_result"
    }
   ],
   "source": [
    "calculadora_1.resta() #resta"
   ]
  },
  {
   "cell_type": "code",
   "execution_count": 14,
   "id": "6f3d911e",
   "metadata": {},
   "outputs": [
    {
     "data": {
      "text/plain": [
       "40"
      ]
     },
     "execution_count": 14,
     "metadata": {},
     "output_type": "execute_result"
    }
   ],
   "source": [
    "calculadora_1.multiplicacion() #multiplicacion"
   ]
  },
  {
   "cell_type": "code",
   "execution_count": 15,
   "id": "746e77ea",
   "metadata": {},
   "outputs": [
    {
     "data": {
      "text/plain": [
       "2.5"
      ]
     },
     "execution_count": 15,
     "metadata": {},
     "output_type": "execute_result"
    }
   ],
   "source": [
    "calculadora_1.division() #division"
   ]
  }
 ],
 "metadata": {
  "kernelspec": {
   "display_name": "Python 3 (ipykernel)",
   "language": "python",
   "name": "python3"
  },
  "language_info": {
   "codemirror_mode": {
    "name": "ipython",
    "version": 3
   },
   "file_extension": ".py",
   "mimetype": "text/x-python",
   "name": "python",
   "nbconvert_exporter": "python",
   "pygments_lexer": "ipython3",
   "version": "3.9.12"
  }
 },
 "nbformat": 4,
 "nbformat_minor": 5
}
