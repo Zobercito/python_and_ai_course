{
 "cells": [
  {
   "cell_type": "markdown",
   "id": "0f15e2c1",
   "metadata": {},
   "source": [
    "<h1>Introduccion a arrays de Numpy\n",
    "<h6>8/31/22"
   ]
  },
  {
   "cell_type": "code",
   "execution_count": 1,
   "id": "e8e7a64e",
   "metadata": {},
   "outputs": [],
   "source": [
    "#importando Numpy a Python\n",
    "import numpy as np"
   ]
  },
  {
   "cell_type": "code",
   "execution_count": 2,
   "id": "aadd0881",
   "metadata": {},
   "outputs": [
    {
     "data": {
      "text/plain": [
       "array([0., 0., 0., 0., 0., 0.])"
      ]
     },
     "execution_count": 2,
     "metadata": {},
     "output_type": "execute_result"
    }
   ],
   "source": [
    "#es para hacer lista\n",
    "numpy_zeros= np.zeros(6)\n",
    "numpy_zeros"
   ]
  },
  {
   "cell_type": "markdown",
   "id": "a7b00028",
   "metadata": {},
   "source": [
    "<h5>Lista no es igual a Lista de Numpy"
   ]
  },
  {
   "cell_type": "code",
   "execution_count": 3,
   "id": "acd87d76",
   "metadata": {},
   "outputs": [
    {
     "data": {
      "text/plain": [
       "array([[0., 0., 0., 0., 0.],\n",
       "       [0., 0., 0., 0., 0.],\n",
       "       [0., 0., 0., 0., 0.]])"
      ]
     },
     "execution_count": 3,
     "metadata": {},
     "output_type": "execute_result"
    }
   ],
   "source": [
    "#Generando una matriz de ceros\n",
    "numpy_matriz= np.zeros((3,5))\n",
    "numpy_matriz"
   ]
  },
  {
   "cell_type": "code",
   "execution_count": 4,
   "id": "193c206a",
   "metadata": {},
   "outputs": [
    {
     "data": {
      "text/plain": [
       "array([[0., 0., 0.],\n",
       "       [0., 0., 0.],\n",
       "       [0., 0., 0.],\n",
       "       [0., 0., 0.],\n",
       "       [0., 0., 0.]])"
      ]
     },
     "execution_count": 4,
     "metadata": {},
     "output_type": "execute_result"
    }
   ],
   "source": [
    "#invierte la matriz de (3,5) a (5,3)\n",
    "numpy_matriz.transpose()"
   ]
  },
  {
   "cell_type": "code",
   "execution_count": 5,
   "id": "3fbb9614",
   "metadata": {},
   "outputs": [],
   "source": [
    "#Slicing"
   ]
  },
  {
   "cell_type": "code",
   "execution_count": 6,
   "id": "ebf490ed",
   "metadata": {},
   "outputs": [
    {
     "data": {
      "text/plain": [
       "[0, 1, 2, 3, 4, 5, 6, 7, 8, 9]"
      ]
     },
     "execution_count": 6,
     "metadata": {},
     "output_type": "execute_result"
    }
   ],
   "source": [
    "x=list(range(10))\n",
    "x"
   ]
  },
  {
   "cell_type": "code",
   "execution_count": 7,
   "id": "e02e2280",
   "metadata": {},
   "outputs": [
    {
     "data": {
      "text/plain": [
       "[0, 1, 2, 3, 4]"
      ]
     },
     "execution_count": 7,
     "metadata": {},
     "output_type": "execute_result"
    }
   ],
   "source": [
    "#Slicing con listas\n",
    "x=list(range(10))\n",
    "x[0:4]\n",
    "x[0:5]"
   ]
  },
  {
   "cell_type": "code",
   "execution_count": 8,
   "id": "31866ec4",
   "metadata": {},
   "outputs": [
    {
     "data": {
      "text/plain": [
       "array([0, 1, 2, 3, 4])"
      ]
     },
     "execution_count": 8,
     "metadata": {},
     "output_type": "execute_result"
    }
   ],
   "source": [
    "#Numpys Arrays\n",
    "x=np.array((range(10)))\n",
    "x[0:4]\n",
    "x[0:5]"
   ]
  },
  {
   "cell_type": "code",
   "execution_count": 11,
   "id": "8159b5c2",
   "metadata": {},
   "outputs": [],
   "source": [
    "#Operaciones matemáticas a Matrices\n",
    "#dimesion de a = 6\n",
    "a = np.array([1,2,3,4,5,6])\n",
    "#dimension de b = 5\n",
    "b = np.array([10,20,30,40,50,60])"
   ]
  },
  {
   "cell_type": "code",
   "execution_count": 10,
   "id": "7951102f",
   "metadata": {},
   "outputs": [
    {
     "data": {
      "text/plain": [
       "array([11, 22, 33, 44, 55, 66])"
      ]
     },
     "execution_count": 10,
     "metadata": {},
     "output_type": "execute_result"
    }
   ],
   "source": [
    "a+b"
   ]
  },
  {
   "cell_type": "code",
   "execution_count": 21,
   "id": "8d61b9f5",
   "metadata": {},
   "outputs": [],
   "source": [
    "matrizA=np.zeros((3,3))\n",
    "matrizB=np.zeros((1,3))"
   ]
  },
  {
   "cell_type": "code",
   "execution_count": 22,
   "id": "539fe775",
   "metadata": {},
   "outputs": [
    {
     "data": {
      "text/plain": [
       "array([[0., 0., 0.],\n",
       "       [0., 0., 0.],\n",
       "       [0., 0., 0.]])"
      ]
     },
     "execution_count": 22,
     "metadata": {},
     "output_type": "execute_result"
    }
   ],
   "source": [
    "matrizA+matrizB"
   ]
  },
  {
   "cell_type": "code",
   "execution_count": null,
   "id": "a721cb3c",
   "metadata": {},
   "outputs": [],
   "source": []
  }
 ],
 "metadata": {
  "kernelspec": {
   "display_name": "Python 3 (ipykernel)",
   "language": "python",
   "name": "python3"
  },
  "language_info": {
   "codemirror_mode": {
    "name": "ipython",
    "version": 3
   },
   "file_extension": ".py",
   "mimetype": "text/x-python",
   "name": "python",
   "nbconvert_exporter": "python",
   "pygments_lexer": "ipython3",
   "version": "3.9.12"
  }
 },
 "nbformat": 4,
 "nbformat_minor": 5
}
