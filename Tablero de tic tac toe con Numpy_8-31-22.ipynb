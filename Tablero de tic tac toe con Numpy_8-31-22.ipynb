{
 "cells": [
  {
   "cell_type": "code",
   "execution_count": 1,
   "id": "68b6fd8a",
   "metadata": {},
   "outputs": [],
   "source": [
    "#Tablero de tic tac toe\n",
    "def crear_juego():\n",
    "    import numpy as np\n",
    "    x = np.zeros((3, 3))\n",
    "    return x\n"
   ]
  },
  {
   "cell_type": "code",
   "execution_count": 2,
   "id": "94e2331f",
   "metadata": {},
   "outputs": [],
   "source": [
    "tablero = crear_juego()"
   ]
  },
  {
   "cell_type": "code",
   "execution_count": 7,
   "id": "2a8d0976",
   "metadata": {},
   "outputs": [
    {
     "data": {
      "text/plain": [
       "array([[0., 0., 0.],\n",
       "       [0., 0., 0.],\n",
       "       [0., 0., 0.]])"
      ]
     },
     "execution_count": 7,
     "metadata": {},
     "output_type": "execute_result"
    }
   ],
   "source": [
    "tablero[2][1]=0\n",
    "tablero"
   ]
  },
  {
   "cell_type": "code",
   "execution_count": null,
   "id": "7ac59c1e",
   "metadata": {},
   "outputs": [],
   "source": []
  },
  {
   "cell_type": "code",
   "execution_count": 8,
   "id": "ea0ad04f",
   "metadata": {},
   "outputs": [],
   "source": [
    "#La jugada\n",
    "def colocar(tablero, jugador, posicion):\n",
    "    (col, fila) = posicion\n",
    "    tablero[col][fila] = jugador\n",
    "    return tablero"
   ]
  },
  {
   "cell_type": "code",
   "execution_count": 11,
   "id": "dc4dd280",
   "metadata": {},
   "outputs": [],
   "source": [
    "juego1 = crear_juego()"
   ]
  },
  {
   "cell_type": "code",
   "execution_count": 12,
   "id": "74a13300",
   "metadata": {},
   "outputs": [
    {
     "data": {
      "text/plain": [
       "array([[0., 0., 0.],\n",
       "       [0., 0., 1.],\n",
       "       [0., 0., 0.]])"
      ]
     },
     "execution_count": 12,
     "metadata": {},
     "output_type": "execute_result"
    }
   ],
   "source": [
    "colocar(juego1,1,(1,2))"
   ]
  },
  {
   "cell_type": "code",
   "execution_count": null,
   "id": "74a39b78",
   "metadata": {},
   "outputs": [],
   "source": []
  }
 ],
 "metadata": {
  "kernelspec": {
   "display_name": "Python 3 (ipykernel)",
   "language": "python",
   "name": "python3"
  },
  "language_info": {
   "codemirror_mode": {
    "name": "ipython",
    "version": 3
   },
   "file_extension": ".py",
   "mimetype": "text/x-python",
   "name": "python",
   "nbconvert_exporter": "python",
   "pygments_lexer": "ipython3",
   "version": "3.9.12"
  }
 },
 "nbformat": 4,
 "nbformat_minor": 5
}
